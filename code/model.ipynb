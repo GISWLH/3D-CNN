{
 "cells": [
  {
   "cell_type": "code",
   "execution_count": 11,
   "metadata": {},
   "outputs": [
    {
     "name": "stdout",
     "output_type": "stream",
     "text": [
      "torch.Size([1, 128, 16, 721, 1440])\n",
      "Input shape: torch.Size([1, 8, 16, 721, 1440])\n",
      "Output shape: torch.Size([1, 1, 3, 721, 1440])\n"
     ]
    }
   ],
   "source": [
    "import torch\n",
    "import torch.nn as nn\n",
    "\n",
    "class CNNModel(nn.Module):\n",
    "    def __init__(self, input_features, output_features, target_time_steps):\n",
    "        super(CNNModel, self).__init__()\n",
    "        # First layer: extracting spatial and temporal features\n",
    "        self.conv1 = nn.Conv3d(\n",
    "            in_channels=input_features,\n",
    "            out_channels=64,\n",
    "            kernel_size=(3, 3, 3),\n",
    "            padding=(1, 1, 1)\n",
    "        )\n",
    "        \n",
    "        # Second layer: further extract deep features\n",
    "        self.conv2 = nn.Conv3d(\n",
    "            in_channels=64,\n",
    "            out_channels=128,\n",
    "            kernel_size=(3, 3, 3),\n",
    "            padding=(1, 1, 1)\n",
    "        )\n",
    "        \n",
    "        # Third layer: reduce the time step from 16 to 3, and the feature dimension is 1\n",
    "        self.conv3 = nn.Conv3d(\n",
    "            in_channels=128,\n",
    "            out_channels=output_features,\n",
    "            kernel_size=(3, 1, 1),\n",
    "            stride=(5, 1, 1),\n",
    "            padding=(0, 0, 0)\n",
    "        )\n",
    "\n",
    "        # Activation Function and Dropout\n",
    "        self.tanh = nn.Tanh()\n",
    "        self.dropout = nn.Dropout3d(p=0.3)\n",
    "\n",
    "    def forward(self, x):\n",
    "        # Input: (batch, feature, time, height, width)\n",
    "        x = self.tanh(self.conv1(x))  # (1, 8, 16, 721, 1440) -> (1, 64, 16, 721, 1440)\n",
    "        x = self.dropout(x)\n",
    "\n",
    "        x = self.tanh(self.conv2(x))  # (1, 64, 16, 721, 1440) -> (1, 128, 16, 721, 1440)\n",
    "        x = self.dropout(x)\n",
    "        x = self.conv3(x)  # (1, 128, 16, 721, 1440) -> (1, 1, 3, 721, 1440)\n",
    "        return x\n",
    "\n",
    "# 初始化模型\n",
    "input_features = 8  # 输入特征数\n",
    "output_features = 1  # 输出特征数 (最终为1)\n",
    "target_time_steps = 16  # 输入时间步\n",
    "\n",
    "model = CNNModel(input_features, output_features, target_time_steps)\n",
    "\n",
    "# 创建随机输入数据\n",
    "input_data = torch.rand((1, 8, 16, 721, 1440))  # 输入形状 (batch, feature, time, height, width)\n",
    "\n",
    "# 推理\n",
    "model.eval()\n",
    "with torch.no_grad():\n",
    "    output_data = model(input_data)\n",
    "\n",
    "# 打印输入和输出形状\n",
    "print(\"Input shape:\", input_data.shape)\n",
    "print(\"Output shape:\", output_data.shape)\n"
   ]
  }
 ],
 "metadata": {
  "kernelspec": {
   "display_name": "torch",
   "language": "python",
   "name": "python3"
  },
  "language_info": {
   "codemirror_mode": {
    "name": "ipython",
    "version": 3
   },
   "file_extension": ".py",
   "mimetype": "text/x-python",
   "name": "python",
   "nbconvert_exporter": "python",
   "pygments_lexer": "ipython3",
   "version": "3.8.17"
  }
 },
 "nbformat": 4,
 "nbformat_minor": 2
}
