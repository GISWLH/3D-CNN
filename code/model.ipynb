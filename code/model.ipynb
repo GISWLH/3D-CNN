{
 "cells": [
  {
   "cell_type": "code",
   "execution_count": 1,
   "metadata": {},
   "outputs": [],
   "source": [
    "import torch\n",
    "import torch.nn as nn\n",
    "\n",
    "class CNN3D(nn.Module):\n",
    "    def __init__(self, input_features, output_features, target_time_steps):\n",
    "        super(CNN3D, self).__init__()\n",
    "        # First layer: extracting spatial and temporal features\n",
    "        self.conv1 = nn.Conv3d(\n",
    "            in_channels=input_features,\n",
    "            out_channels=64,\n",
    "            kernel_size=(3, 3, 3),\n",
    "            padding=(1, 1, 1)\n",
    "        )\n",
    "        \n",
    "        # Second layer: further extract deep features\n",
    "        self.conv2 = nn.Conv3d(\n",
    "            in_channels=64,\n",
    "            out_channels=128,\n",
    "            kernel_size=(3, 3, 3),\n",
    "            padding=(1, 1, 1)\n",
    "        )\n",
    "        \n",
    "        # Third layer: reduce the time step from 16 to 3, and the feature dimension is 1\n",
    "        self.conv3 = nn.Conv3d(\n",
    "            in_channels=128,\n",
    "            out_channels=output_features,\n",
    "            kernel_size=(3, 1, 1),\n",
    "            stride=(5, 1, 1),\n",
    "            padding=(0, 0, 0)\n",
    "        )\n",
    "\n",
    "        # Activation Function and Dropout\n",
    "        self.tanh = nn.Tanh()\n",
    "        self.dropout = nn.Dropout3d(p=0.3)\n",
    "\n",
    "    def forward(self, x):\n",
    "        # Input: (batch, feature, time, height, width)\n",
    "        x = self.tanh(self.conv1(x))  # (1, 8, 16, 721, 1440) -> (1, 64, 16, 721, 1440)\n",
    "        x = self.dropout(x)\n",
    "\n",
    "        x = self.tanh(self.conv2(x))  # (1, 64, 16, 721, 1440) -> (1, 128, 16, 721, 1440)\n",
    "        x = self.dropout(x)\n",
    "        x = self.conv3(x)  # (1, 128, 16, 721, 1440) -> (1, 1, 3, 721, 1440)\n",
    "        return x\n",
    "\n",
    "# # 初始化模型\n",
    "# input_features = 8  # 输入特征数\n",
    "# output_features = 1  # 输出特征数 (最终为1)\n",
    "# target_time_steps = 16  # 输入时间步\n",
    "\n",
    "# model = CNN3D(input_features, output_features, target_time_steps)\n",
    "\n",
    "# # 创建随机输入数据\n",
    "# input_data = torch.rand((1, 8, 16, 721, 1440))  # 输入形状 (batch, feature, time, height, width)\n",
    "\n",
    "# # 推理\n",
    "# model.eval()\n",
    "# with torch.no_grad():\n",
    "#     output_data = model(input_data)\n",
    "\n",
    "# # 打印输入和输出形状\n",
    "# print(\"Input shape:\", input_data.shape)\n",
    "# print(\"Output shape:\", output_data.shape)\n"
   ]
  },
  {
   "cell_type": "code",
   "execution_count": 2,
   "metadata": {},
   "outputs": [],
   "source": [
    "normalized_data = torch.load('E:/data/normalized_train.pt')\n",
    "  "
   ]
  },
  {
   "cell_type": "code",
   "execution_count": 3,
   "metadata": {},
   "outputs": [],
   "source": [
    "from torch.utils.data import Dataset, DataLoader\n",
    "from random import randint\n",
    "import torch\n",
    "import torch.nn as nn\n",
    "import torch.optim as optim\n",
    "\n",
    "class WeatherDataset1(Dataset):\n",
    "    def __init__(self, input_data, train=False, validation=False, test=False):\n",
    "        self.input = input_data\n",
    "        self.train = train\n",
    "        self.validation = validation\n",
    "        self.test = test\n",
    "        if self.train:\n",
    "            self.input = self.input[:608]  \n",
    "        elif self.validation:\n",
    "            self.input = self.input[-160:-80] \n",
    "        elif self.test:\n",
    "            self.input = self.input[-80:] \n",
    "        print(\"input: \",self.input.shape)\n",
    "\n",
    "    def __len__(self):\n",
    "        if self.train:\n",
    "            return 608 - 20  # 确保索引不会超出范围\n",
    "        else:\n",
    "            return 80 - 20\n",
    "    \n",
    "\n",
    "    def __getitem__(self, idx):\n",
    "        upper_input = torch.tensor(self.input).permute(1, 0, 2, 3)[:, idx:idx + 16, :, :]\n",
    "        target_surface = self.input[idx + 16: idx + 16 + 3, 0, :, :]\n",
    "        return upper_input, target_surface   "
   ]
  },
  {
   "cell_type": "code",
   "execution_count": 4,
   "metadata": {},
   "outputs": [
    {
     "name": "stdout",
     "output_type": "stream",
     "text": [
      "input:  torch.Size([608, 8, 721, 1440])\n",
      "input:  torch.Size([80, 8, 721, 1440])\n"
     ]
    }
   ],
   "source": [
    "DEVICE = torch.device(\"cuda:0\")\n",
    "model = CNN3D(input_features=8, output_features=1, target_time_steps=16).to(DEVICE)\n",
    "\n",
    "optimizer = torch.optim.Adam(model.parameters(), lr=0.0005)\n",
    "\n",
    "# 创建数据集和数据加载器\n",
    "train_dataset = WeatherDataset1(normalized_data, train=True)\n",
    "train_loader = DataLoader(train_dataset, batch_size=1,shuffle=False, generator=torch.Generator(device='cpu'))\n",
    "\n",
    "valid_dataset = WeatherDataset1(normalized_data, validation=True)\n",
    "valid_loader = DataLoader(valid_dataset, batch_size=1, shuffle=False)\n",
    "\n",
    "custom_loss = torch.nn.MSELoss()"
   ]
  },
  {
   "cell_type": "code",
   "execution_count": 5,
   "metadata": {},
   "outputs": [
    {
     "name": "stderr",
     "output_type": "stream",
     "text": [
      "C:\\Users\\DELL\\AppData\\Local\\Temp\\ipykernel_12480\\2300829202.py:29: UserWarning: To copy construct from a tensor, it is recommended to use sourceTensor.clone().detach() or sourceTensor.clone().detach().requires_grad_(True), rather than torch.tensor(sourceTensor).\n",
      "  upper_input = torch.tensor(self.input).permute(1, 0, 2, 3)[:, idx:idx + 16, :, :]\n"
     ]
    }
   ],
   "source": [
    "model.train()\n",
    "train_loss = 0.0\n",
    "for i, (upper_air, target_surface) in enumerate(train_loader):    \n",
    "    upper_air, target_surface = upper_air.to(DEVICE), target_surface.to(DEVICE)\n",
    "    optimizer.zero_grad()  # 清除旧的梯度\n",
    "    output_surface = model(upper_air)\n",
    "    if i == 0:\n",
    "        break"
   ]
  },
  {
   "cell_type": "code",
   "execution_count": 11,
   "metadata": {},
   "outputs": [
    {
     "name": "stderr",
     "output_type": "stream",
     "text": [
      "C:\\Users\\DELL\\AppData\\Local\\Temp\\ipykernel_1660\\3780815108.py:29: UserWarning: To copy construct from a tensor, it is recommended to use sourceTensor.clone().detach() or sourceTensor.clone().detach().requires_grad_(True), rather than torch.tensor(sourceTensor).\n",
      "  upper_input = torch.tensor(self.input).permute(1, 0, 2, 3)[idx:idx + 16, :, :, :]\n"
     ]
    },
    {
     "ename": "TypeError",
     "evalue": "forward() got an unexpected keyword argument 'train'",
     "output_type": "error",
     "traceback": [
      "\u001b[1;31m---------------------------------------------------------------------------\u001b[0m",
      "\u001b[1;31mTypeError\u001b[0m                                 Traceback (most recent call last)",
      "Cell \u001b[1;32mIn[11], line 9\u001b[0m\n\u001b[0;32m      7\u001b[0m upper_air, target_surface \u001b[38;5;241m=\u001b[39m upper_air\u001b[38;5;241m.\u001b[39mto(DEVICE), target_surface\u001b[38;5;241m.\u001b[39mto(DEVICE)\n\u001b[0;32m      8\u001b[0m optimizer\u001b[38;5;241m.\u001b[39mzero_grad()  \u001b[38;5;66;03m# 清除旧的梯度\u001b[39;00m\n\u001b[1;32m----> 9\u001b[0m output_surface \u001b[38;5;241m=\u001b[39m \u001b[43mmodel\u001b[49m\u001b[43m(\u001b[49m\u001b[43mupper_air\u001b[49m\u001b[43m,\u001b[49m\u001b[43m \u001b[49m\u001b[38;5;28;43;01mNone\u001b[39;49;00m\u001b[43m,\u001b[49m\u001b[43m \u001b[49m\u001b[43mtrain\u001b[49m\u001b[38;5;241;43m=\u001b[39;49m\u001b[38;5;28;43;01mFalse\u001b[39;49;00m\u001b[43m)\u001b[49m\n\u001b[0;32m     11\u001b[0m output_surface \u001b[38;5;241m=\u001b[39m output_surface\u001b[38;5;241m.\u001b[39msqueeze(\u001b[38;5;241m0\u001b[39m)\u001b[38;5;241m.\u001b[39msqueeze(\u001b[38;5;241m0\u001b[39m)\n\u001b[0;32m     12\u001b[0m target_surface \u001b[38;5;241m=\u001b[39m target_surface\u001b[38;5;241m.\u001b[39msqueeze(\u001b[38;5;241m0\u001b[39m)\u001b[38;5;241m.\u001b[39msqueeze(\u001b[38;5;241m0\u001b[39m)\n",
      "File \u001b[1;32md:\\miniconda\\envs\\torch\\lib\\site-packages\\torch\\nn\\modules\\module.py:1518\u001b[0m, in \u001b[0;36mModule._wrapped_call_impl\u001b[1;34m(self, *args, **kwargs)\u001b[0m\n\u001b[0;32m   1516\u001b[0m     \u001b[38;5;28;01mreturn\u001b[39;00m \u001b[38;5;28mself\u001b[39m\u001b[38;5;241m.\u001b[39m_compiled_call_impl(\u001b[38;5;241m*\u001b[39margs, \u001b[38;5;241m*\u001b[39m\u001b[38;5;241m*\u001b[39mkwargs)  \u001b[38;5;66;03m# type: ignore[misc]\u001b[39;00m\n\u001b[0;32m   1517\u001b[0m \u001b[38;5;28;01melse\u001b[39;00m:\n\u001b[1;32m-> 1518\u001b[0m     \u001b[38;5;28;01mreturn\u001b[39;00m \u001b[38;5;28;43mself\u001b[39;49m\u001b[38;5;241;43m.\u001b[39;49m\u001b[43m_call_impl\u001b[49m\u001b[43m(\u001b[49m\u001b[38;5;241;43m*\u001b[39;49m\u001b[43margs\u001b[49m\u001b[43m,\u001b[49m\u001b[43m \u001b[49m\u001b[38;5;241;43m*\u001b[39;49m\u001b[38;5;241;43m*\u001b[39;49m\u001b[43mkwargs\u001b[49m\u001b[43m)\u001b[49m\n",
      "File \u001b[1;32md:\\miniconda\\envs\\torch\\lib\\site-packages\\torch\\nn\\modules\\module.py:1527\u001b[0m, in \u001b[0;36mModule._call_impl\u001b[1;34m(self, *args, **kwargs)\u001b[0m\n\u001b[0;32m   1522\u001b[0m \u001b[38;5;66;03m# If we don't have any hooks, we want to skip the rest of the logic in\u001b[39;00m\n\u001b[0;32m   1523\u001b[0m \u001b[38;5;66;03m# this function, and just call forward.\u001b[39;00m\n\u001b[0;32m   1524\u001b[0m \u001b[38;5;28;01mif\u001b[39;00m \u001b[38;5;129;01mnot\u001b[39;00m (\u001b[38;5;28mself\u001b[39m\u001b[38;5;241m.\u001b[39m_backward_hooks \u001b[38;5;129;01mor\u001b[39;00m \u001b[38;5;28mself\u001b[39m\u001b[38;5;241m.\u001b[39m_backward_pre_hooks \u001b[38;5;129;01mor\u001b[39;00m \u001b[38;5;28mself\u001b[39m\u001b[38;5;241m.\u001b[39m_forward_hooks \u001b[38;5;129;01mor\u001b[39;00m \u001b[38;5;28mself\u001b[39m\u001b[38;5;241m.\u001b[39m_forward_pre_hooks\n\u001b[0;32m   1525\u001b[0m         \u001b[38;5;129;01mor\u001b[39;00m _global_backward_pre_hooks \u001b[38;5;129;01mor\u001b[39;00m _global_backward_hooks\n\u001b[0;32m   1526\u001b[0m         \u001b[38;5;129;01mor\u001b[39;00m _global_forward_hooks \u001b[38;5;129;01mor\u001b[39;00m _global_forward_pre_hooks):\n\u001b[1;32m-> 1527\u001b[0m     \u001b[38;5;28;01mreturn\u001b[39;00m \u001b[43mforward_call\u001b[49m\u001b[43m(\u001b[49m\u001b[38;5;241;43m*\u001b[39;49m\u001b[43margs\u001b[49m\u001b[43m,\u001b[49m\u001b[43m \u001b[49m\u001b[38;5;241;43m*\u001b[39;49m\u001b[38;5;241;43m*\u001b[39;49m\u001b[43mkwargs\u001b[49m\u001b[43m)\u001b[49m\n\u001b[0;32m   1529\u001b[0m \u001b[38;5;28;01mtry\u001b[39;00m:\n\u001b[0;32m   1530\u001b[0m     result \u001b[38;5;241m=\u001b[39m \u001b[38;5;28;01mNone\u001b[39;00m\n",
      "\u001b[1;31mTypeError\u001b[0m: forward() got an unexpected keyword argument 'train'"
     ]
    }
   ],
   "source": [
    "epochs = 100\n",
    "log_file = \"loss_log.txt\"\n",
    "for epoch in range(epochs):\n",
    "    model.train()\n",
    "    train_loss = 0.0\n",
    "    for i, (upper_air, target_surface) in enumerate(train_loader):    \n",
    "        upper_air, target_surface = upper_air.to(DEVICE), target_surface.to(DEVICE)\n",
    "        optimizer.zero_grad()  # 清除旧的梯度\n",
    "        output_surface = model(upper_air)\n",
    "        \n",
    "        output_surface = output_surface.squeeze(0).squeeze(0)\n",
    "        target_surface = target_surface.squeeze(0).squeeze(0)\n",
    "\n",
    "        loss = custom_loss(output_surface, target_surface)\n",
    "\n",
    "        loss.backward()\n",
    "        optimizer.step()\n",
    "        train_loss += loss.item()\n",
    "    train_loss /= len(train_loader)\n",
    "\n",
    "    \n",
    "    # 验证过程\n",
    "    model.eval()\n",
    "    valid_loss = 0.0\n",
    "    with torch.no_grad():\n",
    "        for j,(upper_air, target_surface) in enumerate(valid_loader):\n",
    "            upper_air, target_surface = upper_air.to(DEVICE), target_surface.to(DEVICE)\n",
    "            output_surface = model(upper_air)\n",
    "            output_surface = output_surface.squeeze(0).squeeze(0)\n",
    "            target_surface = target_surface.squeeze(0).squeeze(0)\n",
    "            loss = custom_loss(output_surface, target_surface)\n",
    "            valid_loss += loss.item()\n",
    "\n",
    "    # 计算验证集的平均损失\n",
    "    valid_loss /= len(valid_loader)\n",
    "\n",
    "    print(f\"Epoch {epoch}, Train Loss: {train_loss}, Validation Loss: {valid_loss}\")\n",
    "    with open(log_file, \"a\") as f:\n",
    "        f.write(f\"{epoch},{train_loss},{valid_loss}\\n\")\n",
    "    if (epoch + 1) % 50 == 0:\n",
    "        checkpoint_path = f'model_checkpoints/model_epoch_{epoch+1}.pth'\n",
    "        torch.save({\n",
    "            'epoch': epoch + 1,\n",
    "            'model_state_dict': model.state_dict(),\n",
    "            'optimizer_state_dict': optimizer.state_dict(),\n",
    "            'train_loss': train_loss,\n",
    "            'valid_loss': valid_loss\n",
    "        }, checkpoint_path)\n",
    "        print(f\"Model checkpoint saved at epoch {epoch + 1}\")\n",
    "        \n",
    "torch.save(model, '3DCNN_0005_100ep.pth')"
   ]
  }
 ],
 "metadata": {
  "kernelspec": {
   "display_name": "torch",
   "language": "python",
   "name": "python3"
  },
  "language_info": {
   "codemirror_mode": {
    "name": "ipython",
    "version": 3
   },
   "file_extension": ".py",
   "mimetype": "text/x-python",
   "name": "python",
   "nbconvert_exporter": "python",
   "pygments_lexer": "ipython3",
   "version": "3.8.17"
  }
 },
 "nbformat": 4,
 "nbformat_minor": 2
}
